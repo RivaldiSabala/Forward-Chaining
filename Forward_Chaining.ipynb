{
  "nbformat": 4,
  "nbformat_minor": 0,
  "metadata": {
    "colab": {
      "provenance": []
    },
    "kernelspec": {
      "name": "python3",
      "display_name": "Python 3"
    },
    "language_info": {
      "name": "python"
    }
  },
  "cells": [
    {
      "cell_type": "code",
      "execution_count": 1,
      "metadata": {
        "id": "67jdlpJhesdL"
      },
      "outputs": [],
      "source": [
        "import pandas as pd"
      ]
    },
    {
      "cell_type": "code",
      "source": [
        "# Definisikan data\n",
        "data = {\n",
        "    \"Kondisi\" : [\"1\", \"2\", \"3\", \"4\", \"5\"],\n",
        "    \"Tekanan_Darah\" : [\"Tinggi\", \"Normal\", \"Normal\", \"Normal\", \"Normal\"],\n",
        "    \"Gejala\" : [\"Ya\", \"Ya\", \"Tidak\", \"Ya\", \"Ya\"],\n",
        "    \"Meroko\" : [\"Ya\", \"Ya\", \"Tidak\", \"Ya\", \"Ya\"],\n",
        "    \"Diabetes\" : [\"Ya\", \"Ya\", \"Tidak\", \"Ya\", \"Tidak\"],\n",
        "    \"Kesimpulan\" : [\"Tinggi\", \"Tinggi\", \"Rendah\", \"Tinggi\", \"Rendah\"]\n",
        "}"
      ],
      "metadata": {
        "id": "SXCCCtVYfG2E"
      },
      "execution_count": 2,
      "outputs": []
    },
    {
      "cell_type": "code",
      "source": [
        "# Buat DataFrame\n",
        "df = pd.DataFrame(data)"
      ],
      "metadata": {
        "id": "TUdBRZJWh_vB"
      },
      "execution_count": 3,
      "outputs": []
    },
    {
      "cell_type": "code",
      "source": [
        "# Buat tabel keputusan\n",
        "df_decision = df.pivot_table(values=\"Kesimpulan\", index=[\"Kondisi\", \"Tekanan_Darah\", \"Gejala\", \"Meroko\", \"Diabetes\"], aggfunc=lambda x: x.mode()[0])"
      ],
      "metadata": {
        "id": "7-hGdu1oh7Tp"
      },
      "execution_count": 9,
      "outputs": []
    },
    {
      "cell_type": "code",
      "source": [
        "# Tampilkan Tabel keputusan\n",
        "print(df_decision)"
      ],
      "metadata": {
        "colab": {
          "base_uri": "https://localhost:8080/"
        },
        "id": "zgDzDthAhuvO",
        "outputId": "23ea4a49-b23a-4a2d-8494-d25fdf5f8d79"
      },
      "execution_count": 10,
      "outputs": [
        {
          "output_type": "stream",
          "name": "stdout",
          "text": [
            "                                             Kesimpulan\n",
            "Kondisi Tekanan_Darah Gejala Meroko Diabetes           \n",
            "1       Tinggi        Ya     Ya     Ya           Tinggi\n",
            "2       Normal        Ya     Ya     Ya           Tinggi\n",
            "3       Normal        Tidak  Tidak  Tidak        Rendah\n",
            "4       Normal        Ya     Ya     Ya           Tinggi\n",
            "5       Normal        Ya     Ya     Tidak        Rendah\n"
          ]
        }
      ]
    }
  ]
}